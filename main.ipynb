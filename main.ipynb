{
 "cells": [
  {
   "cell_type": "code",
   "execution_count": 111,
   "metadata": {},
   "outputs": [],
   "source": [
    "import requests\n",
    "from bs4 import BeautifulSoup\n",
    "\n",
    "BASE_URL = 'https://fmoviesgo.to/genre/'"
   ]
  },
  {
   "cell_type": "code",
   "execution_count": 112,
   "metadata": {},
   "outputs": [],
   "source": [
    "genre = 'thriller'\n",
    "pg_number=1"
   ]
  },
  {
   "cell_type": "code",
   "execution_count": 113,
   "metadata": {},
   "outputs": [],
   "source": [
    "url = f\"{BASE_URL}{genre}?page={pg_number}\""
   ]
  },
  {
   "cell_type": "code",
   "execution_count": 114,
   "metadata": {},
   "outputs": [],
   "source": [
    "\n",
    "result = requests.get(url)\n",
    "# print(response.text)"
   ]
  },
  {
   "cell_type": "code",
   "execution_count": 115,
   "metadata": {},
   "outputs": [],
   "source": [
    "soup=BeautifulSoup(result.text,\"html.parser\")"
   ]
  },
  {
   "cell_type": "markdown",
   "metadata": {},
   "source": [
    "### page number finder"
   ]
  },
  {
   "cell_type": "code",
   "execution_count": 138,
   "metadata": {},
   "outputs": [
    {
     "data": {
      "text/plain": [
       "'255'"
      ]
     },
     "execution_count": 138,
     "metadata": {},
     "output_type": "execute_result"
    }
   ],
   "source": [
    "pg=soup.find_all('li',{'class':'page-item'})\n",
    "pg=pg[-1].find('a')['href'].split('=')[1]\n",
    "pg\n"
   ]
  },
  {
   "cell_type": "code",
   "execution_count": 117,
   "metadata": {},
   "outputs": [],
   "source": [
    "movies=soup.find_all(\"div\",{\"class\":\"flw-item\"})"
   ]
  },
  {
   "cell_type": "code",
   "execution_count": 141,
   "metadata": {},
   "outputs": [
    {
     "data": {
      "text/plain": [
       "'https://fmoviesgo.to/movie/sissy-2022-full-88678'"
      ]
     },
     "execution_count": 141,
     "metadata": {},
     "output_type": "execute_result"
    }
   ],
   "source": [
    "movie_link=movies[0].find(\"h2\").find(\"a\")['href']\n",
    "movie_main_link=\"https://fmoviesgo.to\"+movie_link\n",
    "movie_main_link"
   ]
  },
  {
   "cell_type": "code",
   "execution_count": 119,
   "metadata": {},
   "outputs": [
    {
     "data": {
      "text/plain": [
       "'Sissy'"
      ]
     },
     "execution_count": 119,
     "metadata": {},
     "output_type": "execute_result"
    }
   ],
   "source": [
    "movie_name=movies[0].find(\"h2\").find(\"a\")['title']\n",
    "movie_name"
   ]
  },
  {
   "cell_type": "code",
   "execution_count": 120,
   "metadata": {},
   "outputs": [
    {
     "data": {
      "text/plain": [
       "'https://fmoviesgo.to/movie/sissy-2022-full-88678'"
      ]
     },
     "execution_count": 120,
     "metadata": {},
     "output_type": "execute_result"
    }
   ],
   "source": [
    "movie_main_link"
   ]
  },
  {
   "cell_type": "markdown",
   "metadata": {},
   "source": [
    "### for imbd ratings"
   ]
  },
  {
   "cell_type": "code",
   "execution_count": 121,
   "metadata": {},
   "outputs": [
    {
     "data": {
      "text/plain": [
       "'https://fmoviesgo.to/movie/sissy-2022-full-88678'"
      ]
     },
     "execution_count": 121,
     "metadata": {},
     "output_type": "execute_result"
    }
   ],
   "source": [
    "movie_main_link"
   ]
  },
  {
   "cell_type": "code",
   "execution_count": 122,
   "metadata": {},
   "outputs": [],
   "source": [
    "result=requests.get(movie_main_link)\n",
    "\n"
   ]
  },
  {
   "cell_type": "code",
   "execution_count": 123,
   "metadata": {},
   "outputs": [],
   "source": [
    "new_soup=BeautifulSoup(result.text,\"html.parser\")"
   ]
  },
  {
   "cell_type": "code",
   "execution_count": 124,
   "metadata": {},
   "outputs": [],
   "source": [
    "imdb=new_soup.find('button',{\"class\":\"btn btn-sm btn-radius btn-warning btn-imdb\"})"
   ]
  },
  {
   "cell_type": "code",
   "execution_count": 125,
   "metadata": {},
   "outputs": [
    {
     "data": {
      "text/plain": [
       "'IMDB: 6.2'"
      ]
     },
     "execution_count": 125,
     "metadata": {},
     "output_type": "execute_result"
    }
   ],
   "source": [
    "imdb.text"
   ]
  },
  {
   "cell_type": "markdown",
   "metadata": {},
   "source": [
    "### released,genre,cast"
   ]
  },
  {
   "cell_type": "code",
   "execution_count": 126,
   "metadata": {},
   "outputs": [],
   "source": [
    "rows=new_soup.find_all('div',{'class':'row-line'})"
   ]
  },
  {
   "cell_type": "code",
   "execution_count": 127,
   "metadata": {},
   "outputs": [
    {
     "data": {
      "text/plain": [
       "[<div class=\"row-line\">\n",
       " <span class=\"type\"><strong>Released: </strong></span> 2022-11-03\n",
       "             </div>,\n",
       " <div class=\"row-line\">\n",
       " <span class=\"type\"><strong>Genre: </strong></span>\n",
       " <a href=\"/genre/horror\" title=\"Horror\">Horror</a>, \n",
       "                 \n",
       "                     <a href=\"/genre/thriller\" title=\"Thriller\">Thriller</a>\n",
       " </div>,\n",
       " <div class=\"row-line\">\n",
       " <span class=\"type\"><strong>Casts: </strong></span>\n",
       " <a href=\"/cast/aisha-dee\" title=\"Aisha Dee\">Aisha Dee</a>, \n",
       "                 \n",
       "                     <a href=\"/cast/lucy-barrett\" title=\"Lucy Barrett\">Lucy Barrett</a>, \n",
       "                 \n",
       "                     <a href=\"/cast/yerin-ha\" title=\"Yerin Ha\">Yerin Ha</a>, \n",
       "                 \n",
       "                     <a href=\"/cast/shaun-martindale\" title=\"Shaun Martindale\">Shaun Martindale</a>, \n",
       "                 \n",
       "                     <a href=\"/cast/hannah-barlow\" title=\"Hannah Barlow\">Hannah Barlow</a>\n",
       " </div>,\n",
       " <div class=\"row-line\">\n",
       " <span class=\"type\"><strong>Duration: </strong></span> 102\n",
       "                 min\n",
       "             </div>,\n",
       " <div class=\"row-line\">\n",
       " <span class=\"type\"><strong>Country: </strong></span>\n",
       " <a href=\"/country/au\" title=\"Australia\">Australia</a>\n",
       " </div>,\n",
       " <div class=\"row-line\">\n",
       " <span class=\"type\"><strong>Production: </strong></span>\n",
       " <a href=\"/production/xyz-films\" title=\"XYZ Films\">XYZ Films</a>, \n",
       "                 \n",
       "                     <a href=\"/production/shudder\" title=\"Shudder\">Shudder</a>\n",
       " </div>]"
      ]
     },
     "execution_count": 127,
     "metadata": {},
     "output_type": "execute_result"
    }
   ],
   "source": [
    "rows"
   ]
  },
  {
   "cell_type": "code",
   "execution_count": 128,
   "metadata": {},
   "outputs": [
    {
     "data": {
      "text/plain": [
       "'2022-11-03'"
      ]
     },
     "execution_count": 128,
     "metadata": {},
     "output_type": "execute_result"
    }
   ],
   "source": [
    "released =rows[0].text.split(\":\")[1].strip()\n",
    "released"
   ]
  },
  {
   "cell_type": "code",
   "execution_count": 129,
   "metadata": {},
   "outputs": [
    {
     "data": {
      "text/plain": [
       "['Horror', 'Thriller']"
      ]
     },
     "execution_count": 129,
     "metadata": {},
     "output_type": "execute_result"
    }
   ],
   "source": [
    "genres=rows[1].find_all('a')\n",
    "category=[]\n",
    "for genre in genres:\n",
    "    category.append(genre.text)\n",
    "category"
   ]
  },
  {
   "cell_type": "code",
   "execution_count": 130,
   "metadata": {},
   "outputs": [
    {
     "data": {
      "text/plain": [
       "['Aisha Dee', 'Lucy Barrett', 'Yerin Ha', 'Shaun Martindale', 'Hannah Barlow']"
      ]
     },
     "execution_count": 130,
     "metadata": {},
     "output_type": "execute_result"
    }
   ],
   "source": [
    "casts=rows[2].find_all('a')\n",
    "actors=[]\n",
    "for cast in casts:\n",
    "    actors.append(cast.text)\n",
    "\n",
    "actors"
   ]
  },
  {
   "cell_type": "markdown",
   "metadata": {},
   "source": [
    "### description"
   ]
  },
  {
   "cell_type": "code",
   "execution_count": 131,
   "metadata": {},
   "outputs": [
    {
     "data": {
      "text/plain": [
       "'Cecilia is a successful social media influencer living the dream, until she runs into her ex-childhood best friend and is invited away on her bachelorette weekend. Suddenly Sissy finds herself stuck in a remote cabin with her school bully...and a taste for revenge'"
      ]
     },
     "execution_count": 131,
     "metadata": {},
     "output_type": "execute_result"
    }
   ],
   "source": [
    "desc=new_soup.find('div',{'class':'description'})\n",
    "desc.text.strip()"
   ]
  },
  {
   "cell_type": "code",
   "execution_count": null,
   "metadata": {},
   "outputs": [],
   "source": []
  }
 ],
 "metadata": {
  "interpreter": {
   "hash": "1c079d66de12c3e24661432cff9344df434a86a4e60c73970aec425cdf7b4a6a"
  },
  "kernelspec": {
   "display_name": "Python 3.7.8 64-bit",
   "language": "python",
   "name": "python3"
  },
  "language_info": {
   "codemirror_mode": {
    "name": "ipython",
    "version": 3
   },
   "file_extension": ".py",
   "mimetype": "text/x-python",
   "name": "python",
   "nbconvert_exporter": "python",
   "pygments_lexer": "ipython3",
   "version": "3.7.8"
  },
  "orig_nbformat": 4
 },
 "nbformat": 4,
 "nbformat_minor": 2
}
